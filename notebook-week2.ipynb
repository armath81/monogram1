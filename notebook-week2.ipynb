{
  "cells": [
    {
      "cell_type": "markdown",
      "metadata": {
        "id": "view-in-github",
        "colab_type": "text"
      },
      "source": [
        "<a href=\"https://colab.research.google.com/github/armath81/monogram1/blob/master/notebook-week2.ipynb\" target=\"_parent\"><img src=\"https://colab.research.google.com/assets/colab-badge.svg\" alt=\"Open In Colab\"/></a>"
      ]
    },
    {
      "cell_type": "markdown",
      "id": "e1371201",
      "metadata": {
        "id": "e1371201"
      },
      "source": [
        "\n",
        "\n",
        "\n",
        "# تمرین هفته دوم -آشنایی با پایتون \n",
        "\n",
        "\n",
        "* Data types\n",
        "\n",
        "    * Tuples \n",
        "    * Sets\n",
        "    * Dictionaries\n",
        "    * Booleans\n",
        "\n",
        "* Comparison Operators\n",
        "* if, elif, else Statements"
      ]
    },
    {
      "cell_type": "markdown",
      "id": "36908e5c",
      "metadata": {
        "id": "36908e5c"
      },
      "source": [
        "# Tupel"
      ]
    },
    {
      "cell_type": "code",
      "execution_count": 1,
      "id": "536fba2f",
      "metadata": {
        "id": "536fba2f"
      },
      "outputs": [],
      "source": [
        "my_list = [1,2,3]"
      ]
    },
    {
      "cell_type": "code",
      "execution_count": 2,
      "id": "a64800d0",
      "metadata": {
        "colab": {
          "base_uri": "https://localhost:8080/"
        },
        "id": "a64800d0",
        "outputId": "cb223f9c-04cd-412b-ef75-50d541958c09"
      },
      "outputs": [
        {
          "output_type": "execute_result",
          "data": {
            "text/plain": [
              "[1, 2, 3]"
            ]
          },
          "metadata": {},
          "execution_count": 2
        }
      ],
      "source": [
        "my_list"
      ]
    },
    {
      "cell_type": "code",
      "execution_count": 3,
      "id": "14120917",
      "metadata": {
        "colab": {
          "base_uri": "https://localhost:8080/"
        },
        "id": "14120917",
        "outputId": "b43573bc-c5be-4bc9-b619-b74592c48f3e"
      },
      "outputs": [
        {
          "output_type": "execute_result",
          "data": {
            "text/plain": [
              "1"
            ]
          },
          "metadata": {},
          "execution_count": 3
        }
      ],
      "source": [
        "my_list[0]"
      ]
    },
    {
      "cell_type": "code",
      "execution_count": 4,
      "id": "22221a70",
      "metadata": {
        "id": "22221a70"
      },
      "outputs": [],
      "source": [
        "my_tuple = (1,2,3)"
      ]
    },
    {
      "cell_type": "code",
      "execution_count": 5,
      "id": "c06ff070",
      "metadata": {
        "colab": {
          "base_uri": "https://localhost:8080/"
        },
        "id": "c06ff070",
        "outputId": "e37240c3-6af4-4e28-f8dd-0ed02b208b46"
      },
      "outputs": [
        {
          "output_type": "execute_result",
          "data": {
            "text/plain": [
              "(1, 2, 3)"
            ]
          },
          "metadata": {},
          "execution_count": 5
        }
      ],
      "source": [
        "my_tuple"
      ]
    },
    {
      "cell_type": "code",
      "execution_count": 6,
      "id": "f18276ef",
      "metadata": {
        "colab": {
          "base_uri": "https://localhost:8080/"
        },
        "id": "f18276ef",
        "outputId": "aa8debaa-a4de-46b2-d536-9ab50e7d3ed7"
      },
      "outputs": [
        {
          "output_type": "execute_result",
          "data": {
            "text/plain": [
              "1"
            ]
          },
          "metadata": {},
          "execution_count": 6
        }
      ],
      "source": [
        "my_tuple[0]"
      ]
    },
    {
      "cell_type": "code",
      "execution_count": 7,
      "id": "713a1266",
      "metadata": {
        "id": "713a1266"
      },
      "outputs": [],
      "source": [
        "my_list[0]= 'New'"
      ]
    },
    {
      "cell_type": "code",
      "execution_count": 8,
      "id": "2c150f5a",
      "metadata": {
        "colab": {
          "base_uri": "https://localhost:8080/"
        },
        "id": "2c150f5a",
        "outputId": "77e58aa1-3f7a-42b5-e8c1-6430d2bb675a"
      },
      "outputs": [
        {
          "output_type": "execute_result",
          "data": {
            "text/plain": [
              "['New', 2, 3]"
            ]
          },
          "metadata": {},
          "execution_count": 8
        }
      ],
      "source": [
        "my_list"
      ]
    },
    {
      "cell_type": "code",
      "execution_count": 9,
      "id": "71ea59db",
      "metadata": {
        "colab": {
          "base_uri": "https://localhost:8080/",
          "height": 169
        },
        "id": "71ea59db",
        "outputId": "37390c07-8393-4484-cb4d-aefe140b4745"
      },
      "outputs": [
        {
          "output_type": "error",
          "ename": "TypeError",
          "evalue": "ignored",
          "traceback": [
            "\u001b[0;31m---------------------------------------------------------------------------\u001b[0m",
            "\u001b[0;31mTypeError\u001b[0m                                 Traceback (most recent call last)",
            "\u001b[0;32m<ipython-input-9-593febed9115>\u001b[0m in \u001b[0;36m<module>\u001b[0;34m()\u001b[0m\n\u001b[0;32m----> 1\u001b[0;31m \u001b[0mmy_tuple\u001b[0m\u001b[0;34m[\u001b[0m\u001b[0;36m0\u001b[0m\u001b[0;34m]\u001b[0m\u001b[0;34m=\u001b[0m \u001b[0;34m'New'\u001b[0m\u001b[0;34m\u001b[0m\u001b[0;34m\u001b[0m\u001b[0m\n\u001b[0m",
            "\u001b[0;31mTypeError\u001b[0m: 'tuple' object does not support item assignment"
          ]
        }
      ],
      "source": [
        "my_tuple[0]= 'New'"
      ]
    },
    {
      "cell_type": "markdown",
      "id": "44e1cb0b",
      "metadata": {
        "id": "44e1cb0b"
      },
      "source": [
        "# تفاوت لیست و تاپل در پایتون چیست؟ \n",
        "you can change the items in a list or add some items to that but you can not do ant changes to a tuple!\n"
      ]
    },
    {
      "cell_type": "markdown",
      "id": "3a2e87b2",
      "metadata": {
        "id": "3a2e87b2"
      },
      "source": [
        "# SET"
      ]
    },
    {
      "cell_type": "code",
      "execution_count": 10,
      "id": "bff08f8f",
      "metadata": {
        "id": "bff08f8f"
      },
      "outputs": [],
      "source": [
        "my_set = {1,2,3}"
      ]
    },
    {
      "cell_type": "code",
      "execution_count": 11,
      "id": "f603886e",
      "metadata": {
        "colab": {
          "base_uri": "https://localhost:8080/"
        },
        "id": "f603886e",
        "outputId": "651903c1-1cb8-44a3-b5e7-1eaeb75b46da"
      },
      "outputs": [
        {
          "output_type": "execute_result",
          "data": {
            "text/plain": [
              "{1, 2, 3}"
            ]
          },
          "metadata": {},
          "execution_count": 11
        }
      ],
      "source": [
        "my_set"
      ]
    },
    {
      "cell_type": "code",
      "execution_count": 12,
      "id": "a1e8e218",
      "metadata": {
        "id": "a1e8e218"
      },
      "outputs": [],
      "source": [
        "my_set = {1,1,2,2,3,3,3}"
      ]
    },
    {
      "cell_type": "code",
      "execution_count": 13,
      "id": "14950e1f",
      "metadata": {
        "colab": {
          "base_uri": "https://localhost:8080/"
        },
        "id": "14950e1f",
        "outputId": "f72778de-3cd0-4883-8450-d573c3f21c63"
      },
      "outputs": [
        {
          "output_type": "execute_result",
          "data": {
            "text/plain": [
              "{1, 2, 3}"
            ]
          },
          "metadata": {},
          "execution_count": 13
        }
      ],
      "source": [
        "my_set"
      ]
    },
    {
      "cell_type": "markdown",
      "id": "84a91dd3",
      "metadata": {
        "id": "84a91dd3"
      },
      "source": [
        "# Dictionary"
      ]
    },
    {
      "cell_type": "code",
      "execution_count": 14,
      "id": "1b8e0b13",
      "metadata": {
        "id": "1b8e0b13"
      },
      "outputs": [],
      "source": [
        "my_dic = {'key1':'value1', 'key2':'value2'}"
      ]
    },
    {
      "cell_type": "code",
      "execution_count": 15,
      "id": "c49ab292",
      "metadata": {
        "colab": {
          "base_uri": "https://localhost:8080/"
        },
        "id": "c49ab292",
        "outputId": "548cbe8e-3f1f-48c9-f8d1-06a2c0202cb7"
      },
      "outputs": [
        {
          "output_type": "execute_result",
          "data": {
            "text/plain": [
              "{'key1': 'value1', 'key2': 'value2'}"
            ]
          },
          "metadata": {},
          "execution_count": 15
        }
      ],
      "source": [
        "my_dic"
      ]
    },
    {
      "cell_type": "code",
      "execution_count": 16,
      "id": "131a0a82",
      "metadata": {
        "colab": {
          "base_uri": "https://localhost:8080/",
          "height": 169
        },
        "id": "131a0a82",
        "outputId": "c1051cec-4678-494e-d0c2-77db8d52123d"
      },
      "outputs": [
        {
          "output_type": "error",
          "ename": "KeyError",
          "evalue": "ignored",
          "traceback": [
            "\u001b[0;31m---------------------------------------------------------------------------\u001b[0m",
            "\u001b[0;31mKeyError\u001b[0m                                  Traceback (most recent call last)",
            "\u001b[0;32m<ipython-input-16-c94414a84202>\u001b[0m in \u001b[0;36m<module>\u001b[0;34m()\u001b[0m\n\u001b[0;32m----> 1\u001b[0;31m \u001b[0mmy_dic\u001b[0m\u001b[0;34m[\u001b[0m\u001b[0;36m0\u001b[0m\u001b[0;34m]\u001b[0m\u001b[0;34m\u001b[0m\u001b[0;34m\u001b[0m\u001b[0m\n\u001b[0m",
            "\u001b[0;31mKeyError\u001b[0m: 0"
          ]
        }
      ],
      "source": [
        "my_dic[0]"
      ]
    },
    {
      "cell_type": "code",
      "execution_count": 17,
      "id": "358a2dfd",
      "metadata": {
        "colab": {
          "base_uri": "https://localhost:8080/",
          "height": 35
        },
        "id": "358a2dfd",
        "outputId": "5862092a-a1f9-475e-e625-b86afd3b0ba7"
      },
      "outputs": [
        {
          "output_type": "execute_result",
          "data": {
            "text/plain": [
              "'value1'"
            ],
            "application/vnd.google.colaboratory.intrinsic+json": {
              "type": "string"
            }
          },
          "metadata": {},
          "execution_count": 17
        }
      ],
      "source": [
        "my_dic['key1']"
      ]
    },
    {
      "cell_type": "code",
      "execution_count": 18,
      "id": "bb8a0a70",
      "metadata": {
        "id": "bb8a0a70"
      },
      "outputs": [],
      "source": [
        "dic_1 = {'A':'monogram', 'B':1, 'C':[1,3,6]}"
      ]
    },
    {
      "cell_type": "code",
      "execution_count": 19,
      "id": "84504e9b",
      "metadata": {
        "colab": {
          "base_uri": "https://localhost:8080/"
        },
        "id": "84504e9b",
        "outputId": "7567c295-4e58-4575-cfd9-7e8a53456f6c"
      },
      "outputs": [
        {
          "output_type": "execute_result",
          "data": {
            "text/plain": [
              "[1, 3, 6]"
            ]
          },
          "metadata": {},
          "execution_count": 19
        }
      ],
      "source": [
        "dic_1['C']"
      ]
    },
    {
      "cell_type": "markdown",
      "id": "007e61c7",
      "metadata": {
        "id": "007e61c7"
      },
      "source": [
        "# چگونه میتوان عدد 6 را از دیکشنری بدست آورد #  "
      ]
    },
    {
      "cell_type": "code",
      "source": [
        "dic_1['C'][2]"
      ],
      "metadata": {
        "colab": {
          "base_uri": "https://localhost:8080/"
        },
        "id": "HBa9wbYQrkVC",
        "outputId": "ae956a96-b4a7-44a7-da5a-7613e1b92e1d"
      },
      "id": "HBa9wbYQrkVC",
      "execution_count": 20,
      "outputs": [
        {
          "output_type": "execute_result",
          "data": {
            "text/plain": [
              "6"
            ]
          },
          "metadata": {},
          "execution_count": 20
        }
      ]
    },
    {
      "cell_type": "markdown",
      "id": "7e0748ca",
      "metadata": {
        "id": "7e0748ca"
      },
      "source": [
        "# یک دیکشنری بسازید که عضوهای آن اسم ,سن وشغل سه نفر از دوستاتون باشه"
      ]
    },
    {
      "cell_type": "code",
      "source": [
        "Friends_dic = {'Names': ['Farhad', 'Asiyeh', 'Melorin'], 'Ages':[32, 38, 1], 'Jobs':['Dadi', 'Momi', 'Daughter']}"
      ],
      "metadata": {
        "id": "9nSQDJWOrtuA"
      },
      "id": "9nSQDJWOrtuA",
      "execution_count": 56,
      "outputs": []
    },
    {
      "cell_type": "code",
      "source": [
        "Friends_dic"
      ],
      "metadata": {
        "colab": {
          "base_uri": "https://localhost:8080/"
        },
        "id": "OtosCfm9sftP",
        "outputId": "d875012e-0b90-4fa5-a1ed-6d9a1bfe263e"
      },
      "id": "OtosCfm9sftP",
      "execution_count": 57,
      "outputs": [
        {
          "output_type": "execute_result",
          "data": {
            "text/plain": [
              "{'Ages': [32, 38, 1],\n",
              " 'Jobs': ['Dadi', 'Momi', 'Daughter'],\n",
              " 'Names': ['Farhad', 'Asiyeh', 'Melorin']}"
            ]
          },
          "metadata": {},
          "execution_count": 57
        }
      ]
    },
    {
      "cell_type": "code",
      "source": [
        "Friends_dic['Ages'][0]"
      ],
      "metadata": {
        "colab": {
          "base_uri": "https://localhost:8080/"
        },
        "id": "pKtiqUNxsly1",
        "outputId": "31422d10-d35e-494c-d4e8-d73f1f84a1fa"
      },
      "id": "pKtiqUNxsly1",
      "execution_count": 58,
      "outputs": [
        {
          "output_type": "execute_result",
          "data": {
            "text/plain": [
              "32"
            ]
          },
          "metadata": {},
          "execution_count": 58
        }
      ]
    },
    {
      "cell_type": "code",
      "source": [
        "Friends_dic['Names'][1]"
      ],
      "metadata": {
        "colab": {
          "base_uri": "https://localhost:8080/",
          "height": 35
        },
        "id": "_FFj2Doyss-y",
        "outputId": "69fb6a18-27f9-432a-dcab-03ba2c565ffa"
      },
      "id": "_FFj2Doyss-y",
      "execution_count": 59,
      "outputs": [
        {
          "output_type": "execute_result",
          "data": {
            "text/plain": [
              "'Asiyeh'"
            ],
            "application/vnd.google.colaboratory.intrinsic+json": {
              "type": "string"
            }
          },
          "metadata": {},
          "execution_count": 59
        }
      ]
    },
    {
      "cell_type": "code",
      "source": [
        "Friends_dic['Jobs'][1]"
      ],
      "metadata": {
        "colab": {
          "base_uri": "https://localhost:8080/",
          "height": 35
        },
        "id": "abHphSnlvD2S",
        "outputId": "ae370195-1393-474f-8047-65f58ebeda98"
      },
      "id": "abHphSnlvD2S",
      "execution_count": 60,
      "outputs": [
        {
          "output_type": "execute_result",
          "data": {
            "text/plain": [
              "'Momi'"
            ],
            "application/vnd.google.colaboratory.intrinsic+json": {
              "type": "string"
            }
          },
          "metadata": {},
          "execution_count": 60
        }
      ]
    },
    {
      "cell_type": "code",
      "source": [
        "for i in range(3):\n",
        "  print('I am {}, my name is {} and I am {} years old.'.format(Friends_dic['Jobs'][i],Friends_dic['Names'][i], Friends_dic['Ages'][i]))"
      ],
      "metadata": {
        "colab": {
          "base_uri": "https://localhost:8080/"
        },
        "id": "_WtDe9M1trmD",
        "outputId": "9e5e2c7c-0afd-4cd4-99f5-dd335ca18236"
      },
      "id": "_WtDe9M1trmD",
      "execution_count": 61,
      "outputs": [
        {
          "output_type": "stream",
          "name": "stdout",
          "text": [
            "I am Dadi, my name is Farhad and I am 32 years old.\n",
            "I am Momi, my name is Asiyeh and I am 38 years old.\n",
            "I am Daughter, my name is Melorin and I am 1 years old.\n"
          ]
        }
      ]
    },
    {
      "cell_type": "markdown",
      "id": "57570e53",
      "metadata": {
        "id": "57570e53"
      },
      "source": [
        "# Boolean"
      ]
    },
    {
      "cell_type": "code",
      "execution_count": 62,
      "id": "cef0f34a",
      "metadata": {
        "colab": {
          "base_uri": "https://localhost:8080/"
        },
        "id": "cef0f34a",
        "outputId": "52a609f3-0fe7-498a-b917-f12966865da3"
      },
      "outputs": [
        {
          "output_type": "execute_result",
          "data": {
            "text/plain": [
              "True"
            ]
          },
          "metadata": {},
          "execution_count": 62
        }
      ],
      "source": [
        "True"
      ]
    },
    {
      "cell_type": "code",
      "execution_count": 63,
      "id": "fd69df21",
      "metadata": {
        "colab": {
          "base_uri": "https://localhost:8080/"
        },
        "id": "fd69df21",
        "outputId": "736e5e18-9179-4dba-94d4-3f7cc806d35a"
      },
      "outputs": [
        {
          "output_type": "execute_result",
          "data": {
            "text/plain": [
              "False"
            ]
          },
          "metadata": {},
          "execution_count": 63
        }
      ],
      "source": [
        "False"
      ]
    },
    {
      "cell_type": "code",
      "execution_count": 64,
      "id": "7f467945",
      "metadata": {
        "colab": {
          "base_uri": "https://localhost:8080/"
        },
        "id": "7f467945",
        "outputId": "56abc653-aa3d-4615-d29e-19f24bb2eb36"
      },
      "outputs": [
        {
          "output_type": "execute_result",
          "data": {
            "text/plain": [
              "True"
            ]
          },
          "metadata": {},
          "execution_count": 64
        }
      ],
      "source": [
        "1<4"
      ]
    },
    {
      "cell_type": "code",
      "execution_count": 65,
      "id": "ff929301",
      "metadata": {
        "colab": {
          "base_uri": "https://localhost:8080/"
        },
        "id": "ff929301",
        "outputId": "8b2a9815-026b-4c23-b25b-21334e764e00"
      },
      "outputs": [
        {
          "output_type": "execute_result",
          "data": {
            "text/plain": [
              "False"
            ]
          },
          "metadata": {},
          "execution_count": 65
        }
      ],
      "source": [
        "5>9"
      ]
    },
    {
      "cell_type": "markdown",
      "id": "a88b9736",
      "metadata": {
        "id": "a88b9736"
      },
      "source": [
        "# Comparison Operators"
      ]
    },
    {
      "cell_type": "code",
      "execution_count": 66,
      "id": "22dce00c",
      "metadata": {
        "colab": {
          "base_uri": "https://localhost:8080/"
        },
        "id": "22dce00c",
        "outputId": "b96ca9d6-53dc-4292-e367-e028e71bc00a"
      },
      "outputs": [
        {
          "output_type": "execute_result",
          "data": {
            "text/plain": [
              "True"
            ]
          },
          "metadata": {},
          "execution_count": 66
        }
      ],
      "source": [
        "1 == 1"
      ]
    },
    {
      "cell_type": "code",
      "execution_count": 67,
      "id": "9c4cb3b3",
      "metadata": {
        "colab": {
          "base_uri": "https://localhost:8080/"
        },
        "id": "9c4cb3b3",
        "outputId": "e3853b5c-20a8-4892-b342-7cea6cff662e"
      },
      "outputs": [
        {
          "output_type": "execute_result",
          "data": {
            "text/plain": [
              "True"
            ]
          },
          "metadata": {},
          "execution_count": 67
        }
      ],
      "source": [
        "1 <= 4"
      ]
    },
    {
      "cell_type": "code",
      "execution_count": 68,
      "id": "7cda8cc8",
      "metadata": {
        "colab": {
          "base_uri": "https://localhost:8080/"
        },
        "id": "7cda8cc8",
        "outputId": "e25e1b6c-4119-4b37-e1d2-96e0ad6e1af7"
      },
      "outputs": [
        {
          "output_type": "execute_result",
          "data": {
            "text/plain": [
              "False"
            ]
          },
          "metadata": {},
          "execution_count": 68
        }
      ],
      "source": [
        "'hi' == 'bye'"
      ]
    },
    {
      "cell_type": "code",
      "source": [
        "'a'=='A'"
      ],
      "metadata": {
        "colab": {
          "base_uri": "https://localhost:8080/"
        },
        "id": "-GyZNwKKvisr",
        "outputId": "dafd6735-1378-425c-e923-3960c7d4607d"
      },
      "id": "-GyZNwKKvisr",
      "execution_count": 69,
      "outputs": [
        {
          "output_type": "execute_result",
          "data": {
            "text/plain": [
              "False"
            ]
          },
          "metadata": {},
          "execution_count": 69
        }
      ]
    },
    {
      "cell_type": "markdown",
      "id": "e7d68293",
      "metadata": {
        "id": "e7d68293"
      },
      "source": [
        "# Logic Operators"
      ]
    },
    {
      "cell_type": "code",
      "execution_count": 70,
      "id": "c6838b3d",
      "metadata": {
        "colab": {
          "base_uri": "https://localhost:8080/"
        },
        "id": "c6838b3d",
        "outputId": "61aaa0cb-f255-4121-83e2-7dbca4553368"
      },
      "outputs": [
        {
          "output_type": "execute_result",
          "data": {
            "text/plain": [
              "False"
            ]
          },
          "metadata": {},
          "execution_count": 70
        }
      ],
      "source": [
        "(1 > 2) and (2 < 3)"
      ]
    },
    {
      "cell_type": "code",
      "execution_count": 71,
      "id": "35db57fa",
      "metadata": {
        "colab": {
          "base_uri": "https://localhost:8080/"
        },
        "id": "35db57fa",
        "outputId": "7cfef4a4-87a2-487b-9d18-0d26721c56a3"
      },
      "outputs": [
        {
          "output_type": "execute_result",
          "data": {
            "text/plain": [
              "True"
            ]
          },
          "metadata": {},
          "execution_count": 71
        }
      ],
      "source": [
        "(1 > 2) or (2 < 3)"
      ]
    },
    {
      "cell_type": "code",
      "execution_count": 72,
      "id": "8b0d8a9b",
      "metadata": {
        "colab": {
          "base_uri": "https://localhost:8080/"
        },
        "id": "8b0d8a9b",
        "outputId": "d9b101d2-b0d7-4182-8823-3757e89f4b6b"
      },
      "outputs": [
        {
          "output_type": "execute_result",
          "data": {
            "text/plain": [
              "True"
            ]
          },
          "metadata": {},
          "execution_count": 72
        }
      ],
      "source": [
        "(1 == 2) or (2 == 3) or (4 == 4)"
      ]
    },
    {
      "cell_type": "markdown",
      "id": "c7f36127",
      "metadata": {
        "id": "c7f36127"
      },
      "source": [
        "# if,elif, else Statements"
      ]
    },
    {
      "cell_type": "code",
      "execution_count": 73,
      "id": "02d37c9e",
      "metadata": {
        "colab": {
          "base_uri": "https://localhost:8080/"
        },
        "id": "02d37c9e",
        "outputId": "e263f2e9-1bc3-45b4-d4fc-63f498d89e92"
      },
      "outputs": [
        {
          "output_type": "stream",
          "name": "stdout",
          "text": [
            "Yep!\n"
          ]
        }
      ],
      "source": [
        "if 1 < 2:\n",
        "    print('Yep!')"
      ]
    },
    {
      "cell_type": "code",
      "execution_count": 74,
      "id": "efb9a273",
      "metadata": {
        "colab": {
          "base_uri": "https://localhost:8080/"
        },
        "id": "efb9a273",
        "outputId": "a14d60c7-fa52-4a8d-a0a4-510096e5d911"
      },
      "outputs": [
        {
          "output_type": "stream",
          "name": "stdout",
          "text": [
            "first\n"
          ]
        }
      ],
      "source": [
        "if 1 < 2:\n",
        "    print('first')\n",
        "else:\n",
        "    print('last')"
      ]
    },
    {
      "cell_type": "code",
      "execution_count": 75,
      "id": "eada328c",
      "metadata": {
        "colab": {
          "base_uri": "https://localhost:8080/"
        },
        "id": "eada328c",
        "outputId": "3fb0f1b4-755d-466c-ca4f-597bc44575e7"
      },
      "outputs": [
        {
          "output_type": "stream",
          "name": "stdout",
          "text": [
            "last\n"
          ]
        }
      ],
      "source": [
        "if 1 > 2:\n",
        "    print('first')\n",
        "else:\n",
        "    print('last')"
      ]
    },
    {
      "cell_type": "code",
      "execution_count": 76,
      "id": "3e005971",
      "metadata": {
        "colab": {
          "base_uri": "https://localhost:8080/"
        },
        "id": "3e005971",
        "outputId": "472b84a1-d26d-43de-9801-621aee251200"
      },
      "outputs": [
        {
          "output_type": "stream",
          "name": "stdout",
          "text": [
            "middle\n"
          ]
        }
      ],
      "source": [
        "if 1 == 2:\n",
        "    print('first')\n",
        "elif 3 == 3:\n",
        "    print('middle')\n",
        "else:\n",
        "    print('Last')"
      ]
    },
    {
      "cell_type": "markdown",
      "id": "e2c53358",
      "metadata": {
        "id": "e2c53358"
      },
      "source": [
        "# Great Job!"
      ]
    },
    {
      "cell_type": "code",
      "execution_count": null,
      "id": "2015c40d",
      "metadata": {
        "id": "2015c40d"
      },
      "outputs": [],
      "source": [
        ""
      ]
    }
  ],
  "metadata": {
    "kernelspec": {
      "display_name": "Python 3 (ipykernel)",
      "language": "python",
      "name": "python3"
    },
    "language_info": {
      "codemirror_mode": {
        "name": "ipython",
        "version": 3
      },
      "file_extension": ".py",
      "mimetype": "text/x-python",
      "name": "python",
      "nbconvert_exporter": "python",
      "pygments_lexer": "ipython3",
      "version": "3.8.3"
    },
    "colab": {
      "name": "notebook-week2.ipynb",
      "provenance": [],
      "include_colab_link": true
    }
  },
  "nbformat": 4,
  "nbformat_minor": 5
}